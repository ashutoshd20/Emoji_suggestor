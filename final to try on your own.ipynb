{
 "cells": [
  {
   "cell_type": "code",
   "execution_count": 1,
   "id": "82e0ae72",
   "metadata": {},
   "outputs": [],
   "source": [
    "from dictionary import *\n",
    "def my_result(str):\n",
    "    import numpy as np\n",
    "    import tensorflow as tf\n",
    "    import emoji\n",
    "   \n",
    "    X=[]\n",
    "    X.append(str)\n",
    "    X1=np.array(X)\n",
    "    X1=sentences_to_indices(X1, word_to_index, 10)\n",
    "    model = tf.keras.models.load_model(\"./emogi_suggestor_model\")\n",
    "    y=np.argmax(model.predict(X1), axis=1)\n",
    "    Y=[emoji.emojize(\":sparkling_heart:\"),emoji.emojize(\":soccer_ball:\"),emoji.emojize(\":grinning_face:\"),emoji.emojize(\":disappointed_face:\"),emoji.emojize(\":fork_and_knife_with_plate:\")]\n",
    "    \n",
    "    return (X[0]+Y[y[0]])"
   ]
  },
  {
   "cell_type": "code",
   "execution_count": 2,
   "id": "3bc63f61",
   "metadata": {},
   "outputs": [
    {
     "name": "stdout",
     "output_type": "stream",
     "text": [
      "1/1 [==============================] - 7s 7s/step\n"
     ]
    }
   ],
   "source": [
    "r=my_result('i love you baby')"
   ]
  },
  {
   "cell_type": "code",
   "execution_count": 3,
   "id": "c59aeb44",
   "metadata": {},
   "outputs": [
    {
     "data": {
      "text/plain": [
       "'i love you baby💖'"
      ]
     },
     "execution_count": 3,
     "metadata": {},
     "output_type": "execute_result"
    }
   ],
   "source": [
    "r"
   ]
  },
  {
   "cell_type": "code",
   "execution_count": null,
   "id": "c0026ff0",
   "metadata": {},
   "outputs": [],
   "source": []
  },
  {
   "cell_type": "code",
   "execution_count": null,
   "id": "0da0e4bc",
   "metadata": {},
   "outputs": [],
   "source": []
  }
 ],
 "metadata": {
  "kernelspec": {
   "display_name": "Python 3 (ipykernel)",
   "language": "python",
   "name": "python3"
  },
  "language_info": {
   "codemirror_mode": {
    "name": "ipython",
    "version": 3
   },
   "file_extension": ".py",
   "mimetype": "text/x-python",
   "name": "python",
   "nbconvert_exporter": "python",
   "pygments_lexer": "ipython3",
   "version": "3.9.12"
  }
 },
 "nbformat": 4,
 "nbformat_minor": 5
}
