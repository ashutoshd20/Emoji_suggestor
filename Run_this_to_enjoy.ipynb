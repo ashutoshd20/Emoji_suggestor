{
 "cells": [
  {
   "cell_type": "code",
   "execution_count": 1,
   "id": "fa6cdc5c",
   "metadata": {},
   "outputs": [
    {
     "name": "stdout",
     "output_type": "stream",
     "text": [
      "1/1 [==============================] - 2s 2s/step\n"
     ]
    }
   ],
   "source": [
    "from dictionary import *\n",
    "from self_test import * #do not remove this\n"
   ]
  },
  {
   "cell_type": "code",
   "execution_count": 3,
   "id": "4b32548b",
   "metadata": {},
   "outputs": [
    {
     "name": "stdout",
     "output_type": "stream",
     "text": [
      "1/1 [==============================] - 1s 608ms/step\n"
     ]
    },
    {
     "data": {
      "text/plain": [
       "'i love you💖'"
      ]
     },
     "execution_count": 3,
     "metadata": {},
     "output_type": "execute_result"
    }
   ],
   "source": [
    "my_result('i love you') #enter your choice of sentence here <10 words"
   ]
  },
  {
   "cell_type": "code",
   "execution_count": 4,
   "id": "02409b14",
   "metadata": {},
   "outputs": [
    {
     "name": "stdout",
     "output_type": "stream",
     "text": [
      "1/1 [==============================] - 1s 570ms/step\n"
     ]
    },
    {
     "data": {
      "text/plain": [
       "'lets have dinner🍽️'"
      ]
     },
     "execution_count": 4,
     "metadata": {},
     "output_type": "execute_result"
    }
   ],
   "source": [
    "my_result('lets have dinner')"
   ]
  },
  {
   "cell_type": "code",
   "execution_count": null,
   "id": "85fc987a",
   "metadata": {},
   "outputs": [],
   "source": []
  }
 ],
 "metadata": {
  "kernelspec": {
   "display_name": "Python 3 (ipykernel)",
   "language": "python",
   "name": "python3"
  },
  "language_info": {
   "codemirror_mode": {
    "name": "ipython",
    "version": 3
   },
   "file_extension": ".py",
   "mimetype": "text/x-python",
   "name": "python",
   "nbconvert_exporter": "python",
   "pygments_lexer": "ipython3",
   "version": "3.9.12"
  }
 },
 "nbformat": 4,
 "nbformat_minor": 5
}
